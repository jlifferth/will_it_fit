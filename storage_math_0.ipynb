{
 "cells": [
  {
   "cell_type": "code",
   "execution_count": 2,
   "id": "f53f5550",
   "metadata": {},
   "outputs": [],
   "source": [
    "import numpy as np"
   ]
  },
  {
   "cell_type": "code",
   "execution_count": 37,
   "id": "9d1e6945",
   "metadata": {},
   "outputs": [],
   "source": [
    "def set_container(x,y):\n",
    "    new_container = np.ones((x,y)).astype(int)\n",
    "    return new_container\n",
    "\n",
    "container = set_container(10,10)"
   ]
  },
  {
   "cell_type": "code",
   "execution_count": 13,
   "id": "2ca44940",
   "metadata": {},
   "outputs": [],
   "source": [
    "# practice changing a single value\n",
    "container[9,0] = 1\n",
    "# print(container)\n",
    "x_range = container.shape[0] - 1\n",
    "y_range = container.shape[1] - 1\n",
    "# print(x_max, y_max)"
   ]
  },
  {
   "cell_type": "code",
   "execution_count": 52,
   "id": "fc1eb1f0",
   "metadata": {},
   "outputs": [],
   "source": [
    "# create function to convert bottom left origin coordinates into top left origin to match np\n",
    "def to_np_axis(axes):\n",
    "    new_item = ((x_range - axes[1]),(axes[0]))\n",
    "    return new_item"
   ]
  },
  {
   "cell_type": "code",
   "execution_count": null,
   "id": "b8f3117d",
   "metadata": {},
   "outputs": [],
   "source": [
    "def update_spaces(origin, item):\n",
    "    # origin and item are both iterables with len = 2"
   ]
  },
  {
   "cell_type": "code",
   "execution_count": 59,
   "id": "724b71c0",
   "metadata": {},
   "outputs": [
    {
     "name": "stdout",
     "output_type": "stream",
     "text": [
      "[3, 3]\n",
      "(3, 6)\n"
     ]
    }
   ],
   "source": [
    "# initialize an item and choose \n",
    "item_0 = [3,3]\n",
    "# item_0 = to_np_axis(item_0)\n",
    "print(item_0)\n",
    "\n",
    "origin_0 = [6,6]\n",
    "origin_0 = to_np_axis(origin_0)\n",
    "print(origin_0)"
   ]
  },
  {
   "cell_type": "code",
   "execution_count": 60,
   "id": "5e972b4c",
   "metadata": {},
   "outputs": [
    {
     "name": "stdout",
     "output_type": "stream",
     "text": [
      "[[0 0 0]\n",
      " [0 0 0]\n",
      " [0 0 0]]\n",
      "4 1 6 9\n",
      "[[1 1 1 1 1 1 1 1 1 1]\n",
      " [1 1 1 1 1 1 0 0 0 1]\n",
      " [1 1 1 1 1 1 0 0 0 1]\n",
      " [1 1 1 1 1 1 0 0 0 1]\n",
      " [0 0 0 1 1 1 1 1 1 1]\n",
      " [0 0 0 1 1 1 1 1 1 1]\n",
      " [0 0 0 1 1 1 1 1 1 1]\n",
      " [1 1 1 0 0 0 1 1 1 1]\n",
      " [1 1 1 0 0 0 1 1 1 1]\n",
      " [1 1 1 0 0 0 1 1 1 1]]\n"
     ]
    }
   ],
   "source": [
    "item_0_space = np.zeros((item_0[0],item_0[1])).astype(int)\n",
    "print(item_0_space)\n",
    "\n",
    "x_min = origin_0[0] + 1\n",
    "x_max = x_min - item_0[0]\n",
    "y_min = origin_0[1]\n",
    "y_max = y_min + item_0[1]\n",
    "print(x_min, x_max, y_min, y_max)\n",
    "#     for cell in range(len(container[i])):\n",
    "#         if cell < 2 or cell > 7:\n",
    "#             container[cell] = 0\n",
    "\n",
    "container[x_max:x_min, y_min:y_max] = item_0_space\n",
    "print(container)\n",
    "#     print(container[i])    \n",
    "#     for cell in row:\n",
    "#         print(cell)"
   ]
  },
  {
   "cell_type": "code",
   "execution_count": 55,
   "id": "df7107bc",
   "metadata": {},
   "outputs": [
    {
     "name": "stdout",
     "output_type": "stream",
     "text": [
      "[[1 1 1 1 1 1 1 1 1 1]\n",
      " [1 1 1 1 1 1 1 1 1 1]\n",
      " [1 1 1 1 1 1 1 1 1 1]\n",
      " [1 1 1 1 1 1 1 1 1 1]\n",
      " [1 1 1 1 1 1 1 1 1 1]\n",
      " [1 1 1 1 1 1 1 1 1 1]\n",
      " [1 1 1 1 1 1 1 1 1 1]\n",
      " [1 1 1 1 1 1 1 1 1 1]\n",
      " [1 1 1 1 1 1 1 1 1 1]\n",
      " [1 1 1 1 1 1 1 1 1 1]]\n"
     ]
    }
   ],
   "source": [
    "container = set_container(10,10)\n",
    "print(container)"
   ]
  }
 ],
 "metadata": {
  "kernelspec": {
   "display_name": "Python 3 (ipykernel)",
   "language": "python",
   "name": "python3"
  },
  "language_info": {
   "codemirror_mode": {
    "name": "ipython",
    "version": 3
   },
   "file_extension": ".py",
   "mimetype": "text/x-python",
   "name": "python",
   "nbconvert_exporter": "python",
   "pygments_lexer": "ipython3",
   "version": "3.9.6"
  }
 },
 "nbformat": 4,
 "nbformat_minor": 5
}
