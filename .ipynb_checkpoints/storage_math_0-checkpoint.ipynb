{
 "cells": [
  {
   "cell_type": "code",
   "execution_count": 1,
   "id": "0d0680a7",
   "metadata": {},
   "outputs": [],
   "source": [
    "import numpy as np"
   ]
  },
  {
   "cell_type": "code",
   "execution_count": 74,
   "id": "c72f62a0",
   "metadata": {},
   "outputs": [
    {
     "name": "stdout",
     "output_type": "stream",
     "text": [
      "[[1 1 1 1 1 1 1 1 1 1]\n",
      " [1 1 1 1 1 1 1 1 1 1]\n",
      " [1 1 1 1 1 1 1 1 1 1]\n",
      " [1 1 1 1 1 1 1 1 1 1]\n",
      " [1 1 1 1 1 1 1 1 1 1]\n",
      " [1 1 1 1 1 1 1 1 1 1]\n",
      " [1 1 1 1 1 1 1 1 1 1]\n",
      " [1 1 1 1 1 1 1 1 1 1]\n",
      " [1 1 1 1 1 1 1 1 1 1]\n",
      " [1 1 1 1 1 1 1 1 1 1]]\n"
     ]
    }
   ],
   "source": [
    "container = np.ones((10,10)).astype(int)\n",
    "print(container)"
   ]
  },
  {
   "cell_type": "code",
   "execution_count": 42,
   "id": "b352381c",
   "metadata": {},
   "outputs": [
    {
     "name": "stdout",
     "output_type": "stream",
     "text": [
      "[[1 1 1 1 1 1 1 1 1 1]\n",
      " [1 1 1 1 1 1 1 1 1 1]\n",
      " [1 1 1 1 1 1 1 1 1 1]\n",
      " [1 1 1 1 1 1 1 1 1 1]\n",
      " [1 1 1 1 1 1 1 1 1 1]\n",
      " [1 1 1 1 1 1 1 1 1 1]\n",
      " [1 1 1 1 1 1 1 1 1 1]\n",
      " [1 1 1 1 1 1 1 1 1 1]\n",
      " [1 1 1 1 1 1 1 1 1 1]\n",
      " [0 1 1 1 1 1 1 1 1 1]]\n",
      "9 9\n"
     ]
    }
   ],
   "source": [
    "container[9,0] = 0\n",
    "print(container)\n",
    "x_max = container.shape[0] - 1\n",
    "y_max = container.shape[1] - 1\n",
    "print(x_max, y_max)"
   ]
  },
  {
   "cell_type": "code",
   "execution_count": 43,
   "id": "0222d328",
   "metadata": {},
   "outputs": [],
   "source": [
    "# create function to convert bottom left origin coordinates into top left origin to match np\n",
    "def to_np_axis(axes):\n",
    "    new_item = ((x_max - axes[0]),(axes[1]))\n",
    "    return new_item"
   ]
  },
  {
   "cell_type": "code",
   "execution_count": null,
   "id": "c02c0060",
   "metadata": {},
   "outputs": [],
   "source": [
    "def update_spaces(origin, item):\n",
    "    # origin and item are both iterables with len = 2\n",
    "    \n",
    "    "
   ]
  },
  {
   "cell_type": "code",
   "execution_count": 45,
   "id": "c58dcb66",
   "metadata": {},
   "outputs": [
    {
     "name": "stdout",
     "output_type": "stream",
     "text": [
      "(6, 3)\n",
      "(3, 3)\n",
      "(9, 0)\n",
      "(0, 0)\n"
     ]
    }
   ],
   "source": [
    "item_0 = [3,3]\n",
    "item_0 = to_np_axis(item_0)\n",
    "print(item_1)\n",
    "\n",
    "origin_0 = [0,0]\n",
    "origin_0 = to_np_axis(origin_0)\n",
    "print(origin_0)"
   ]
  },
  {
   "cell_type": "code",
   "execution_count": 75,
   "id": "a83d2c33",
   "metadata": {},
   "outputs": [
    {
     "name": "stdout",
     "output_type": "stream",
     "text": [
      "0\n",
      "1\n",
      "2\n",
      "3\n",
      "4\n",
      "5\n",
      "6\n",
      "7\n",
      "8\n",
      "9\n",
      "[[1 1 1 1 1 1 1 1 1 1]\n",
      " [1 1 1 1 1 1 1 1 1 1]\n",
      " [1 1 1 1 1 1 1 1 1 1]\n",
      " [1 1 1 1 1 1 1 1 1 1]\n",
      " [1 1 1 1 1 1 1 1 1 1]\n",
      " [1 1 1 1 1 1 1 1 1 1]\n",
      " [1 1 1 1 1 1 1 1 1 1]\n",
      " [1 1 1 1 1 1 1 1 1 1]\n",
      " [1 1 1 1 1 1 1 1 1 1]\n",
      " [1 1 1 1 1 1 1 1 1 1]]\n"
     ]
    }
   ],
   "source": [
    "for i in range(x_max+1):\n",
    "    x_start = origin_0[0]\n",
    "    x_end = \n",
    "    \n",
    "    \n",
    "    \n",
    "    \n",
    "    \n",
    "#     for cell in range(len(container[i])):\n",
    "#         if cell < 2 or cell > 7:\n",
    "#             container[cell] = 0\n",
    "print(container)\n",
    "#     print(container[i])    \n",
    "#     for cell in row:\n",
    "#         print(cell)"
   ]
  }
 ],
 "metadata": {
  "kernelspec": {
   "display_name": "Python 3",
   "language": "python",
   "name": "python3"
  },
  "language_info": {
   "codemirror_mode": {
    "name": "ipython",
    "version": 3
   },
   "file_extension": ".py",
   "mimetype": "text/x-python",
   "name": "python",
   "nbconvert_exporter": "python",
   "pygments_lexer": "ipython3",
   "version": "3.8.8"
  }
 },
 "nbformat": 4,
 "nbformat_minor": 5
}
